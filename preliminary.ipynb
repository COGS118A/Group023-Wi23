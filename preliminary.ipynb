{
 "cells": [
  {
   "cell_type": "code",
   "execution_count": 15,
   "metadata": {},
   "outputs": [],
   "source": [
    "import numpy as np\n",
    "import pandas as pd\n",
    "import matplotlib.pyplot as plt\n",
    "import seaborn as sns\n",
    "from sklearn.metrics import mean_squared_error, mean_absolute_error\n",
    "from sklearn.linear_model import LinearRegression\n",
    "\n",
    "from warnings import simplefilter\n",
    "simplefilter(action='ignore', category=FutureWarning)\n",
    "\n",
    "train = pd.read_csv('Uniqlo.csv')\n",
    "test = pd.read_csv('Uniqlo-test.csv')"
   ]
  },
  {
   "cell_type": "code",
   "execution_count": 16,
   "metadata": {},
   "outputs": [],
   "source": [
    "train = train.rename(columns={'Stock Trading': 'Trading Value'})\n",
    "train = train.iloc[::-1].reset_index(drop=True)\n",
    "test = test.rename(columns={'Stock Trading': 'Trading Value'})\n",
    "test = test.iloc[::-1].reset_index(drop=True)"
   ]
  },
  {
   "cell_type": "code",
   "execution_count": 17,
   "metadata": {},
   "outputs": [
    {
     "data": {
      "text/html": [
       "<div>\n",
       "<style scoped>\n",
       "    .dataframe tbody tr th:only-of-type {\n",
       "        vertical-align: middle;\n",
       "    }\n",
       "\n",
       "    .dataframe tbody tr th {\n",
       "        vertical-align: top;\n",
       "    }\n",
       "\n",
       "    .dataframe thead th {\n",
       "        text-align: right;\n",
       "    }\n",
       "</style>\n",
       "<table border=\"1\" class=\"dataframe\">\n",
       "  <thead>\n",
       "    <tr style=\"text-align: right;\">\n",
       "      <th></th>\n",
       "      <th>Date</th>\n",
       "      <th>Open</th>\n",
       "      <th>High</th>\n",
       "      <th>Low</th>\n",
       "      <th>Close</th>\n",
       "      <th>Volume</th>\n",
       "      <th>Trading Value</th>\n",
       "    </tr>\n",
       "  </thead>\n",
       "  <tbody>\n",
       "    <tr>\n",
       "      <td>0</td>\n",
       "      <td>2012-01-04</td>\n",
       "      <td>14050</td>\n",
       "      <td>14050</td>\n",
       "      <td>13700</td>\n",
       "      <td>13720</td>\n",
       "      <td>559100</td>\n",
       "      <td>7719804000</td>\n",
       "    </tr>\n",
       "    <tr>\n",
       "      <td>1</td>\n",
       "      <td>2012-01-05</td>\n",
       "      <td>13720</td>\n",
       "      <td>13840</td>\n",
       "      <td>13600</td>\n",
       "      <td>13800</td>\n",
       "      <td>511500</td>\n",
       "      <td>7030811000</td>\n",
       "    </tr>\n",
       "    <tr>\n",
       "      <td>2</td>\n",
       "      <td>2012-01-06</td>\n",
       "      <td>13990</td>\n",
       "      <td>14030</td>\n",
       "      <td>13790</td>\n",
       "      <td>13850</td>\n",
       "      <td>765500</td>\n",
       "      <td>10635609000</td>\n",
       "    </tr>\n",
       "    <tr>\n",
       "      <td>3</td>\n",
       "      <td>2012-01-10</td>\n",
       "      <td>13890</td>\n",
       "      <td>14390</td>\n",
       "      <td>13860</td>\n",
       "      <td>14390</td>\n",
       "      <td>952300</td>\n",
       "      <td>13533413000</td>\n",
       "    </tr>\n",
       "    <tr>\n",
       "      <td>4</td>\n",
       "      <td>2012-01-11</td>\n",
       "      <td>14360</td>\n",
       "      <td>14750</td>\n",
       "      <td>14280</td>\n",
       "      <td>14590</td>\n",
       "      <td>1043400</td>\n",
       "      <td>15191988000</td>\n",
       "    </tr>\n",
       "    <tr>\n",
       "      <td>...</td>\n",
       "      <td>...</td>\n",
       "      <td>...</td>\n",
       "      <td>...</td>\n",
       "      <td>...</td>\n",
       "      <td>...</td>\n",
       "      <td>...</td>\n",
       "      <td>...</td>\n",
       "    </tr>\n",
       "    <tr>\n",
       "      <td>1221</td>\n",
       "      <td>2016-12-26</td>\n",
       "      <td>43310</td>\n",
       "      <td>43660</td>\n",
       "      <td>43090</td>\n",
       "      <td>43340</td>\n",
       "      <td>358200</td>\n",
       "      <td>15547803000</td>\n",
       "    </tr>\n",
       "    <tr>\n",
       "      <td>1222</td>\n",
       "      <td>2016-12-27</td>\n",
       "      <td>43140</td>\n",
       "      <td>43700</td>\n",
       "      <td>43140</td>\n",
       "      <td>43620</td>\n",
       "      <td>400100</td>\n",
       "      <td>17427993000</td>\n",
       "    </tr>\n",
       "    <tr>\n",
       "      <td>1223</td>\n",
       "      <td>2016-12-28</td>\n",
       "      <td>43940</td>\n",
       "      <td>43970</td>\n",
       "      <td>43270</td>\n",
       "      <td>43270</td>\n",
       "      <td>339900</td>\n",
       "      <td>14780670000</td>\n",
       "    </tr>\n",
       "    <tr>\n",
       "      <td>1224</td>\n",
       "      <td>2016-12-29</td>\n",
       "      <td>43000</td>\n",
       "      <td>43220</td>\n",
       "      <td>42540</td>\n",
       "      <td>42660</td>\n",
       "      <td>448400</td>\n",
       "      <td>19188227000</td>\n",
       "    </tr>\n",
       "    <tr>\n",
       "      <td>1225</td>\n",
       "      <td>2016-12-30</td>\n",
       "      <td>42120</td>\n",
       "      <td>42330</td>\n",
       "      <td>41700</td>\n",
       "      <td>41830</td>\n",
       "      <td>610000</td>\n",
       "      <td>25628028000</td>\n",
       "    </tr>\n",
       "  </tbody>\n",
       "</table>\n",
       "<p>1226 rows × 7 columns</p>\n",
       "</div>"
      ],
      "text/plain": [
       "            Date   Open   High    Low  Close   Volume  Trading Value\n",
       "0     2012-01-04  14050  14050  13700  13720   559100     7719804000\n",
       "1     2012-01-05  13720  13840  13600  13800   511500     7030811000\n",
       "2     2012-01-06  13990  14030  13790  13850   765500    10635609000\n",
       "3     2012-01-10  13890  14390  13860  14390   952300    13533413000\n",
       "4     2012-01-11  14360  14750  14280  14590  1043400    15191988000\n",
       "...          ...    ...    ...    ...    ...      ...            ...\n",
       "1221  2016-12-26  43310  43660  43090  43340   358200    15547803000\n",
       "1222  2016-12-27  43140  43700  43140  43620   400100    17427993000\n",
       "1223  2016-12-28  43940  43970  43270  43270   339900    14780670000\n",
       "1224  2016-12-29  43000  43220  42540  42660   448400    19188227000\n",
       "1225  2016-12-30  42120  42330  41700  41830   610000    25628028000\n",
       "\n",
       "[1226 rows x 7 columns]"
      ]
     },
     "execution_count": 17,
     "metadata": {},
     "output_type": "execute_result"
    }
   ],
   "source": [
    "train"
   ]
  },
  {
   "cell_type": "code",
   "execution_count": 18,
   "metadata": {},
   "outputs": [
    {
     "data": {
      "text/html": [
       "<div>\n",
       "<style scoped>\n",
       "    .dataframe tbody tr th:only-of-type {\n",
       "        vertical-align: middle;\n",
       "    }\n",
       "\n",
       "    .dataframe tbody tr th {\n",
       "        vertical-align: top;\n",
       "    }\n",
       "\n",
       "    .dataframe thead th {\n",
       "        text-align: right;\n",
       "    }\n",
       "</style>\n",
       "<table border=\"1\" class=\"dataframe\">\n",
       "  <thead>\n",
       "    <tr style=\"text-align: right;\">\n",
       "      <th></th>\n",
       "      <th>Date</th>\n",
       "      <th>Open</th>\n",
       "      <th>High</th>\n",
       "      <th>Low</th>\n",
       "      <th>Close</th>\n",
       "      <th>Volume</th>\n",
       "      <th>Trading Value</th>\n",
       "    </tr>\n",
       "  </thead>\n",
       "  <tbody>\n",
       "    <tr>\n",
       "      <td>0</td>\n",
       "      <td>2017-01-04</td>\n",
       "      <td>42480</td>\n",
       "      <td>43330</td>\n",
       "      <td>42450</td>\n",
       "      <td>43290</td>\n",
       "      <td>648100</td>\n",
       "      <td>27916728000</td>\n",
       "    </tr>\n",
       "    <tr>\n",
       "      <td>1</td>\n",
       "      <td>2017-01-05</td>\n",
       "      <td>43250</td>\n",
       "      <td>43330</td>\n",
       "      <td>42470</td>\n",
       "      <td>42590</td>\n",
       "      <td>516800</td>\n",
       "      <td>22124250000</td>\n",
       "    </tr>\n",
       "    <tr>\n",
       "      <td>2</td>\n",
       "      <td>2017-01-06</td>\n",
       "      <td>40500</td>\n",
       "      <td>41030</td>\n",
       "      <td>39720</td>\n",
       "      <td>39720</td>\n",
       "      <td>1435500</td>\n",
       "      <td>57708934000</td>\n",
       "    </tr>\n",
       "    <tr>\n",
       "      <td>3</td>\n",
       "      <td>2017-01-10</td>\n",
       "      <td>38620</td>\n",
       "      <td>38850</td>\n",
       "      <td>38150</td>\n",
       "      <td>38690</td>\n",
       "      <td>1196900</td>\n",
       "      <td>46107703000</td>\n",
       "    </tr>\n",
       "    <tr>\n",
       "      <td>4</td>\n",
       "      <td>2017-01-11</td>\n",
       "      <td>38710</td>\n",
       "      <td>38880</td>\n",
       "      <td>38480</td>\n",
       "      <td>38560</td>\n",
       "      <td>545900</td>\n",
       "      <td>21089798000</td>\n",
       "    </tr>\n",
       "    <tr>\n",
       "      <td>5</td>\n",
       "      <td>2017-01-12</td>\n",
       "      <td>38300</td>\n",
       "      <td>38450</td>\n",
       "      <td>37930</td>\n",
       "      <td>38010</td>\n",
       "      <td>800900</td>\n",
       "      <td>30540359000</td>\n",
       "    </tr>\n",
       "    <tr>\n",
       "      <td>6</td>\n",
       "      <td>2017-01-13</td>\n",
       "      <td>38900</td>\n",
       "      <td>39380</td>\n",
       "      <td>38240</td>\n",
       "      <td>38430</td>\n",
       "      <td>1321200</td>\n",
       "      <td>51197289000</td>\n",
       "    </tr>\n",
       "  </tbody>\n",
       "</table>\n",
       "</div>"
      ],
      "text/plain": [
       "         Date   Open   High    Low  Close   Volume  Trading Value\n",
       "0  2017-01-04  42480  43330  42450  43290   648100    27916728000\n",
       "1  2017-01-05  43250  43330  42470  42590   516800    22124250000\n",
       "2  2017-01-06  40500  41030  39720  39720  1435500    57708934000\n",
       "3  2017-01-10  38620  38850  38150  38690  1196900    46107703000\n",
       "4  2017-01-11  38710  38880  38480  38560   545900    21089798000\n",
       "5  2017-01-12  38300  38450  37930  38010   800900    30540359000\n",
       "6  2017-01-13  38900  39380  38240  38430  1321200    51197289000"
      ]
     },
     "execution_count": 18,
     "metadata": {},
     "output_type": "execute_result"
    }
   ],
   "source": [
    "test"
   ]
  },
  {
   "cell_type": "code",
   "execution_count": 19,
   "metadata": {},
   "outputs": [
    {
     "data": {
      "text/html": [
       "<div>\n",
       "<style scoped>\n",
       "    .dataframe tbody tr th:only-of-type {\n",
       "        vertical-align: middle;\n",
       "    }\n",
       "\n",
       "    .dataframe tbody tr th {\n",
       "        vertical-align: top;\n",
       "    }\n",
       "\n",
       "    .dataframe thead th {\n",
       "        text-align: right;\n",
       "    }\n",
       "</style>\n",
       "<table border=\"1\" class=\"dataframe\">\n",
       "  <thead>\n",
       "    <tr style=\"text-align: right;\">\n",
       "      <th></th>\n",
       "      <th>Open</th>\n",
       "      <th>High</th>\n",
       "      <th>Low</th>\n",
       "      <th>Close</th>\n",
       "      <th>Volume</th>\n",
       "      <th>Trading Value</th>\n",
       "    </tr>\n",
       "  </thead>\n",
       "  <tbody>\n",
       "    <tr>\n",
       "      <td>count</td>\n",
       "      <td>1226.000000</td>\n",
       "      <td>1226.000000</td>\n",
       "      <td>1226.000000</td>\n",
       "      <td>1226.000000</td>\n",
       "      <td>1.226000e+03</td>\n",
       "      <td>1.226000e+03</td>\n",
       "    </tr>\n",
       "    <tr>\n",
       "      <td>mean</td>\n",
       "      <td>33754.416803</td>\n",
       "      <td>34178.784666</td>\n",
       "      <td>33347.903752</td>\n",
       "      <td>33760.583197</td>\n",
       "      <td>7.275556e+05</td>\n",
       "      <td>2.440933e+10</td>\n",
       "    </tr>\n",
       "    <tr>\n",
       "      <td>std</td>\n",
       "      <td>10813.440409</td>\n",
       "      <td>10936.326802</td>\n",
       "      <td>10695.664102</td>\n",
       "      <td>10815.661389</td>\n",
       "      <td>4.137178e+05</td>\n",
       "      <td>1.526300e+10</td>\n",
       "    </tr>\n",
       "    <tr>\n",
       "      <td>min</td>\n",
       "      <td>13720.000000</td>\n",
       "      <td>13840.000000</td>\n",
       "      <td>13600.000000</td>\n",
       "      <td>13720.000000</td>\n",
       "      <td>1.391000e+05</td>\n",
       "      <td>3.966140e+09</td>\n",
       "    </tr>\n",
       "    <tr>\n",
       "      <td>25%</td>\n",
       "      <td>27788.750000</td>\n",
       "      <td>28091.250000</td>\n",
       "      <td>27401.250000</td>\n",
       "      <td>27675.000000</td>\n",
       "      <td>4.873000e+05</td>\n",
       "      <td>1.454097e+10</td>\n",
       "    </tr>\n",
       "    <tr>\n",
       "      <td>50%</td>\n",
       "      <td>34445.000000</td>\n",
       "      <td>34835.000000</td>\n",
       "      <td>33925.000000</td>\n",
       "      <td>34412.500000</td>\n",
       "      <td>6.260000e+05</td>\n",
       "      <td>2.153772e+10</td>\n",
       "    </tr>\n",
       "    <tr>\n",
       "      <td>75%</td>\n",
       "      <td>41412.500000</td>\n",
       "      <td>41900.000000</td>\n",
       "      <td>40810.000000</td>\n",
       "      <td>41365.000000</td>\n",
       "      <td>8.267000e+05</td>\n",
       "      <td>3.015922e+10</td>\n",
       "    </tr>\n",
       "    <tr>\n",
       "      <td>max</td>\n",
       "      <td>61550.000000</td>\n",
       "      <td>61970.000000</td>\n",
       "      <td>60740.000000</td>\n",
       "      <td>61930.000000</td>\n",
       "      <td>4.937300e+06</td>\n",
       "      <td>1.460450e+11</td>\n",
       "    </tr>\n",
       "  </tbody>\n",
       "</table>\n",
       "</div>"
      ],
      "text/plain": [
       "               Open          High           Low         Close        Volume  \\\n",
       "count   1226.000000   1226.000000   1226.000000   1226.000000  1.226000e+03   \n",
       "mean   33754.416803  34178.784666  33347.903752  33760.583197  7.275556e+05   \n",
       "std    10813.440409  10936.326802  10695.664102  10815.661389  4.137178e+05   \n",
       "min    13720.000000  13840.000000  13600.000000  13720.000000  1.391000e+05   \n",
       "25%    27788.750000  28091.250000  27401.250000  27675.000000  4.873000e+05   \n",
       "50%    34445.000000  34835.000000  33925.000000  34412.500000  6.260000e+05   \n",
       "75%    41412.500000  41900.000000  40810.000000  41365.000000  8.267000e+05   \n",
       "max    61550.000000  61970.000000  60740.000000  61930.000000  4.937300e+06   \n",
       "\n",
       "       Trading Value  \n",
       "count   1.226000e+03  \n",
       "mean    2.440933e+10  \n",
       "std     1.526300e+10  \n",
       "min     3.966140e+09  \n",
       "25%     1.454097e+10  \n",
       "50%     2.153772e+10  \n",
       "75%     3.015922e+10  \n",
       "max     1.460450e+11  "
      ]
     },
     "execution_count": 19,
     "metadata": {},
     "output_type": "execute_result"
    }
   ],
   "source": [
    "train.describe()"
   ]
  },
  {
   "cell_type": "code",
   "execution_count": 20,
   "metadata": {},
   "outputs": [
    {
     "data": {
      "image/png": "[encoded data removed]",
      "text/plain": [
       "<Figure size 864x864 with 6 Axes>"
      ]
     },
     "metadata": {
      "needs_background": "light"
     },
     "output_type": "display_data"
    }
   ],
   "source": [
    "train.hist(figsize=(12,12));"
   ]
  },
  {
   "cell_type": "code",
   "execution_count": 21,
   "metadata": {},
   "outputs": [
    {
     "data": {
      "image/png": "[encoded data removed]",
      "text/plain": [
       "<Figure size 432x288 with 2 Axes>"
      ]
     },
     "metadata": {
      "needs_background": "light"
     },
     "output_type": "display_data"
    }
   ],
   "source": [
    "corr = train.corr()\n",
    "sns.heatmap(corr, annot=True);"
   ]
  },
  {
   "cell_type": "code",
   "execution_count": 22,
   "metadata": {},
   "outputs": [
    {
     "data": {
      "text/plain": [
       "LinearRegression()"
      ]
     },
     "execution_count": 22,
     "metadata": {},
     "output_type": "execute_result"
    }
   ],
   "source": [
    "model = LinearRegression()\n",
    "X = train[['Open', 'High', 'Low', 'Volume', 'Trading Value']]\n",
    "y = train[['Close']]\n",
    "model.fit(X, y)"
   ]
  },
  {
   "cell_type": "code",
   "execution_count": 23,
   "metadata": {},
   "outputs": [],
   "source": [
    "X_test = test[['Open', 'High', 'Low', 'Volume', 'Trading Value']]\n",
    "y_test = test[['Close']]\n",
    "\n",
    "pred = model.predict(X_test)"
   ]
  },
  {
   "cell_type": "code",
   "execution_count": 24,
   "metadata": {},
   "outputs": [
    {
     "data": {
      "text/plain": [
       "219.0710778963143"
      ]
     },
     "execution_count": 24,
     "metadata": {},
     "output_type": "execute_result"
    }
   ],
   "source": [
    "mae = mean_absolute_error(y_test, pred)\n",
    "mae"
   ]
  },
  {
   "cell_type": "code",
   "execution_count": 25,
   "metadata": {},
   "outputs": [
    {
     "data": {
      "text/plain": [
       "75490.9419773076"
      ]
     },
     "execution_count": 25,
     "metadata": {},
     "output_type": "execute_result"
    }
   ],
   "source": [
    "mse = mean_squared_error(y_test, pred)\n",
    "mse"
   ]
  },
  {
   "cell_type": "code",
   "execution_count": 26,
   "metadata": {},
   "outputs": [
    {
     "data": {
      "text/plain": [
       "274.75615002635993"
      ]
     },
     "execution_count": 26,
     "metadata": {},
     "output_type": "execute_result"
    }
   ],
   "source": [
    "rms = np.sqrt(mse)\n",
    "rms"
   ]
  },
  {
   "cell_type": "code",
   "execution_count": 27,
   "metadata": {},
   "outputs": [
    {
     "data": {
      "image/png": "[encoded data removed]",
      "text/plain": [
       "<Figure size 432x288 with 1 Axes>"
      ]
     },
     "metadata": {
      "needs_background": "light"
     },
     "output_type": "display_data"
    }
   ],
   "source": [
    "plt.plot(test['Close'], color = 'red', label = 'Real Stock Price')\n",
    "plt.plot(pred, color = 'blue', label = 'Predicted Stock Price')\n",
    "plt.title('Stock Price Prediction')\n",
    "plt.xlabel('Time')\n",
    "plt.ylabel('Stock Price')\n",
    "plt.legend()\n",
    "plt.show()"
   ]
  }
 ],
 "metadata": {
  "kernelspec": {
   "display_name": "Python 3",
   "language": "python",
   "name": "python3"
  },
  "language_info": {
   "codemirror_mode": {
    "name": "ipython",
    "version": 3
   },
   "file_extension": ".py",
   "mimetype": "text/x-python",
   "name": "python",
   "nbconvert_exporter": "python",
   "pygments_lexer": "ipython3",
   "version": "3.7.4"
  },
  "orig_nbformat": 4
 },
 "nbformat": 4,
 "nbformat_minor": 2
}
