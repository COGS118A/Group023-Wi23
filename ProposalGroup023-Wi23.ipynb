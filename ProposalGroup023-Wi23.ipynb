{
 "cells": [
  {
   "attachments": {},
   "cell_type": "markdown",
   "metadata": {},
   "source": [
    "# COGS 118A - Project Proposal"
   ]
  },
  {
   "attachments": {},
   "cell_type": "markdown",
   "metadata": {},
   "source": [
    "# Project Description\n",
    "\n",
    "You will design and execute a machine learning project. There are a few constraints on the nature of the allowed project. \n",
    "- The problem addressed will not be a \"toy problem\" or \"common training students problem\" like mtcars, iris, palmer penguins etc.\n",
    "- The dataset will have >1k observations and >5 variables. I'd prefer more like >10k observations and >10 variables. A general rule is that if you have >100x more observations than variables, your solution will likely generalize a lot better. The goal of training a supervised machine learning model is to learn the underlying pattern in a dataset in order to generalize well to unseen data, so choosing a large dataset is very important.\n",
    "\n",
    "- The project will include a model selection and/or feature selection component where you will be looking for the best setup to maximize the performance of your ML system.\n",
    "- You will evaluate the performance of your ML system using more than one appropriate metric\n",
    "- You will be writing a report describing and discussing these accomplishments\n",
    "\n",
    "\n",
    "Feel free to delete this description section when you hand in your proposal."
   ]
  },
  {
   "attachments": {},
   "cell_type": "markdown",
   "metadata": {},
   "source": [
    "# Names\n",
    "\n",
    "- Brian Chen\n",
    "- Jeffrey Chen\n",
    "- Vivian Cheung\n",
    "- Zhangxiang Lu"
   ]
  },
  {
   "attachments": {},
   "cell_type": "markdown",
   "metadata": {},
   "source": [
    "# Abstract \n",
    "In this project, our goal is to predict Uniqlo closing stock prices from a dataset we procured from Kaggle. Each data point in our dataset contains Uniqlo opening, high, low, and closing stock prices as well as volume of stocks traded and trading values from Jan 2012 - Dec 2016. This data was taken from the Japanese stock market. With our data we will be using a random forest model along with k-fold cross validation to predict closing stock prices per day. To evaluate the success of our model we will compare our predictions to the actual Uniqlo closing stock price \n",
    "\n",
    "Our model's performance will be evaluated on root mean square error, mean absolute error, and mean squared error.\n"
   ]
  },
  {
   "attachments": {},
   "cell_type": "markdown",
   "metadata": {},
   "source": [
    "# Background\n",
    "\n",
    "Predicting stock prices has been a popular research area in the field of machine learning and finance for a long time. Various studies have been conducted to predict stock prices using different algorithms and techniques. The majority of these studies have focused on analyzing historical stock price data, company financial reports, and other macroeconomic indicators to make predictions about future stock prices.\n",
    "\n",
    "One popular approach to stock price prediction is time series analysis. Time series analysis involves using past prices and other relevant variables to forecast future prices. There are many different models that can be used for time series analysis, including autoregressive integrated moving average (ARIMA) models, autoregressive conditional heteroscedasticity (ARCH) models, and recurrent neural networks (RNNs) <a name=\"Tsay\"></a>[<sup>[1]</sup>](#Tsay) <a name=\"Engle\"></a>[<sup>[2]</sup>](#Engle) <a name=\\\"Hochreiter\\\"></a>[<sup>[3]</sup>](#Hochreiter).\n",
    "\n",
    "Another popular approach to stock price prediction is machine learning. Machine learning algorithms can be trained to learn patterns in historical data and use those patterns to make predictions about future prices. Popular machine learning algorithms for stock price prediction include support vector machines (SVMs), random forests, and gradient boosting machines (GBMs) <a name=\\\"Zhang\\\"></a>[<sup>[4]</sup>](#Zhang) <a name=\\\"Zhang2\\\"></a>[<sup>[5]</sup>](#Zhang2).\n",
    "\n",
    "In recent years, deep learning techniques such as convolutional neural networks (CNNs) and long short-term memory (LSTM) networks have been applied to stock price prediction with promising results. These techniques can capture complex patterns in historical data and make accurate predictions about future prices <a name=\\\"Zhang3\\\"></a>[<sup>[6]</sup>](#Zhang3) <a name=\\\"Qiu\\\"></a>[<sup>[1]</sup>](#Qiu)."
   ]
  },
  {
   "attachments": {},
   "cell_type": "markdown",
   "metadata": {},
   "source": [
    "# Problem Statement\n",
    "\n",
    "In this project, we propose to predict Uniqlo's closing price on a given date. We'll predict this based off a combination of the following features: opening price, closing price, daily high, daily low, trading volume, and trading value. \n",
    "\n"
   ]
  },
  {
   "attachments": {},
   "cell_type": "markdown",
   "metadata": {},
   "source": [
    "# Data\n",
    "\n",
    "Link to our dataset: https://www.kaggle.com/datasets/daiearth22/uniqlo-fastretailing-stock-price-prediction\n",
    "\n",
    "Our dataset contains 1227 observations organized by date and 7 variables. Each observation consists of a date, opening price, high, low, closing price, volume, and stock trading value. We consider \"opening price\", \"high\", \"low\", \"closing price\", \"volume\", and \"stock trading\" to be critical variables. Every variable is represented by an integer value and every variable except volume is in terms of Japanese Yen ¥. Our dataset is complete and will not require any cleaning. We may rename the \"stock trading\" variable to \"trading value\" for easier understanding."
   ]
  },
  {
   "attachments": {},
   "cell_type": "markdown",
   "metadata": {},
   "source": [
    "# Proposed Solution\n",
    "\n",
    "Using our Uniqlo dataset, we want to predict its closing stock price, while measuring performance. To do so, our project will utilize the Random Forest algorithm, which we believe will work based on the past success of others who have it used for stock prediction. We will run the model using various combinations of the possible features (\"opening price\", \"high\", \"low\", \"closing price\", \"volume\", and \"stock trading\") in order to determine which features result in the best performance. We will use K-Fold cross validation since our sample size is low (1227) to assess our model's performance and make the most of our small dataset. Some libraries that we plan to use are NumPy, SKlearn, and Matplotlib. Some benchmark models we may compare our model against are linear regression and a trivial mean predictor."
   ]
  },
  {
   "attachments": {},
   "cell_type": "markdown",
   "metadata": {},
   "source": [
    "# Evaluation Metrics\n",
    "\n",
    "When evaluating the success of our model, we will compare the predictions to the actual Uniqlo stock prices. For our evaluation metrics, we plan to use statistical metrics such as root mean square error, mean absolute error, and mean squared error for calculating risks and evaluating the prediction accuracy. Overall, the goal is to ensure that it is accurately predicting the direction of the stock and the amount it increases/decreases by.\n",
    "\n",
    "As our dataset has already been separated into training and testing data, we will use the cleaned dataset to evaluate the success of our prediction model and its accuracy using these statistical metrics."
   ]
  },
  {
   "cell_type": "markdown",
   "metadata": {},
   "source": [
    "# Ethics & Privacy"
   ]
  },
  {
   "attachments": {},
   "cell_type": "markdown",
   "metadata": {},
   "source": [
    "In terms of ethics and privacy concerns, we do not consider our project to have serious ethical implications. Theoretically, if our model were to be perfectly accurate or highly accurate in predicting Uniqlo stock prices, one could use our model in their financial interest. On the flip side, if our model were incredibly bad and it were to be publicized as a great model, it could cause people to lose a lot of money if they were to adhere to our model. As a result, it is important to clarify that our project is *not financial advice* and should not be used to inform any personal financial decisions.\n",
    "\n",
    "Another concern is the potential impact on market behavior. If the model is used to make significant financial decisions, it could potentially impact the stock prices and create a feedback loop where the model's predictions influence the market behavior, which in turn affects the stock prices. This could create unintended consequences and potential ethical issues that need to be considered."
   ]
  },
  {
   "cell_type": "markdown",
   "metadata": {},
   "source": [
    "# Team Expectations "
   ]
  },
  {
   "attachments": {},
   "cell_type": "markdown",
   "metadata": {},
   "source": [
    "* Fully respect other people’s ideas and work\n",
    "* Meet weekly on Discord or in-person\n",
    "* Update progress in Discord chat\n",
    "* Assign work evenly among group members and be accountable for the work assigned\n",
    "* Reach out if you need help\n",
    "* Forward-looking attitude"
   ]
  },
  {
   "cell_type": "markdown",
   "metadata": {},
   "source": [
    "# Project Timeline Proposal"
   ]
  },
  {
   "attachments": {},
   "cell_type": "markdown",
   "metadata": {},
   "source": [
    "| Meeting Date  | Meeting Time| Completed Before Meeting  | Discuss at Meeting |\n",
    "|---|---|---|---|\n",
    "| 2/21  | 8 PM |  Brainstorm topics for project  | Determine best form of communication; Discuss and decide on final project topic; start on project proposal | \n",
    "| 2/22  | 8 PM |  Complete individually assigned work for project proposal | Edit, finalize, and submit project proposal | \n",
    "| 2/25  | 8 PM |  Read peer review | Discuss feedback from peer review; Discuss Wrangling and possible analytical approaches; Assign group members to lead each specific part  |\n",
    "| 3/1  | 8 PM  | Finalize wrangling/EDA; Begin programming for project | Discuss/edit project code; Finalize work for checkpoint; Discuss next steps for project |\n",
    "| 3/7  | 8 PM  | Review peer review; Work on assigned work | Go over feedback from peer review; Discuss/edit project code |\n",
    "| 3/13  | 8 PM  | Complete analysis; Draft results/conclusion/discussion | Discuss/edit full project |\n",
    "| 3/21  | 8 PM  | Finalize assigned work | Turn in Final Project  |"
   ]
  },
  {
   "attachments": {},
   "cell_type": "markdown",
   "metadata": {},
   "source": [
    "# Footnotes\n",
    "<a name=\"Tsay\"></a>1.[^](#Tsay): Tsay, R. S. (2018). Analysis of Financial Time Series (3rd ed.). *Wiley.*<br> \n",
    "<a name=\"Engle\"></a>2.[^](#Engle): Engle, R. F. (2001). GARCH 101: The Use of ARCH/GARCH Models in Applied Econometrics. Jo*urnal of Economic Perspectives, *15(4), 157-168.<br>\n",
    "<a name=\"Hochreiter\"></a>3.[^](#Hochreiter): Hochreiter, S., & Schmidhuber, J. (1997). Long Short-Term Memory. Neural Computation, 9(8), 1735-1780.<br>\n",
    "<a name=\"Zhang\"></a>4.[^](#Zhang): Zhang, G., & Qi, Y. (2005). Neural Networks for Technical Analysis: A Study on KLCI. International Journal of Intelligent Systems in Accounting, Finance and Management, 13(1), 1-11.<br> \n",
    "<a name=\"Zhang2\"></a>5.[^](#Zhang2): Zhang, G., Patuwo, B. E., & Hu, M. Y. (1998). Forecasting with Artificial Neural Networks: The State of the Art. International Journal of Forecasting, 14(1), 35-62.<br>\n",
    "<a name=\"Zhang3\"></a>6.[^](#Zhang3): Zhang, Y., Liu, Y., & Li, Y. (2019). Stock Price Prediction Using Convolutional Neural Network. IEEE Access, 7, 112505-112514.<br>\n",
    "<a name=\"Qiu\"></a>7.[^](#Qiu): Qiu, Z., Chen, X., Wu, Y., & Yang, Y. (2019). A Novel Hybrid Model for Stock Price Prediction Based on LSTM and GRU. IEEE Access, 7, 96655-96663."
   ]
  },
  {
   "cell_type": "markdown",
   "metadata": {},
   "source": []
  }
 ],
 "metadata": {
  "kernelspec": {
   "display_name": "Python 3.7.4 64-bit",
   "language": "python",
   "name": "python3"
  },
  "language_info": {
   "codemirror_mode": {
    "name": "ipython",
    "version": 3
   },
   "file_extension": ".py",
   "mimetype": "text/x-python",
   "name": "python",
   "nbconvert_exporter": "python",
   "pygments_lexer": "ipython3",
   "version": "3.7.4"
  },
  "vscode": {
   "interpreter": {
    "hash": "aee8b7b246df8f9039afb4144a1f6fd8d2ca17a180786b69acc140d282b71a49"
   }
  }
 },
 "nbformat": 4,
 "nbformat_minor": 2
}
